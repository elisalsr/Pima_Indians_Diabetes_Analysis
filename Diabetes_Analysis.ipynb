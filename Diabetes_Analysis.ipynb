{
  "nbformat": 4,
  "nbformat_minor": 0,
  "metadata": {
    "colab": {
      "provenance": [],
      "authorship_tag": "ABX9TyNUbqWei9UbelgWE9DNf2wP"
    },
    "kernelspec": {
      "name": "python3",
      "display_name": "Python 3"
    },
    "language_info": {
      "name": "python"
    }
  },
  "cells": [
    {
      "cell_type": "code",
      "execution_count": 5,
      "metadata": {
        "id": "9GOaVIB7ic9p"
      },
      "outputs": [],
      "source": [
        "#Import the packages\n",
        "\n",
        "import matplotlib.pyplot as plt\n",
        "import pandas as pd\n",
        "import numpy as np"
      ]
    },
    {
      "cell_type": "code",
      "source": [
        "# Load the dataset into a pandas DataFrame\n",
        "\n",
        "df = pd.read_csv(\"diabetes.csv\", sep=',')\n",
        "print(df.head)\n",
        "\n",
        "df.to_csv(\"diabetes.csv\", index=False)\n",
        "print(df)"
      ],
      "metadata": {
        "colab": {
          "base_uri": "https://localhost:8080/"
        },
        "id": "Btq9jl7s1qMu",
        "outputId": "ab44f4c7-a54b-46d9-ff4d-6cd4c5d03e97"
      },
      "execution_count": 6,
      "outputs": [
        {
          "output_type": "stream",
          "name": "stdout",
          "text": [
            "<bound method NDFrame.head of      Pregnancies  Glucose  BloodPressure  SkinThickness  Insulin   BMI  \\\n",
            "0              6      148             72             35        0  33.6   \n",
            "1              1       85             66             29        0  26.6   \n",
            "2              8      183             64              0        0  23.3   \n",
            "3              1       89             66             23       94  28.1   \n",
            "4              0      137             40             35      168  43.1   \n",
            "..           ...      ...            ...            ...      ...   ...   \n",
            "763           10      101             76             48      180  32.9   \n",
            "764            2      122             70             27        0  36.8   \n",
            "765            5      121             72             23      112  26.2   \n",
            "766            1      126             60              0        0  30.1   \n",
            "767            1       93             70             31        0  30.4   \n",
            "\n",
            "     DiabetesPedigreeFunction  Age  Outcome  \n",
            "0                       0.627   50        1  \n",
            "1                       0.351   31        0  \n",
            "2                       0.672   32        1  \n",
            "3                       0.167   21        0  \n",
            "4                       2.288   33        1  \n",
            "..                        ...  ...      ...  \n",
            "763                     0.171   63        0  \n",
            "764                     0.340   27        0  \n",
            "765                     0.245   30        0  \n",
            "766                     0.349   47        1  \n",
            "767                     0.315   23        0  \n",
            "\n",
            "[768 rows x 9 columns]>\n",
            "     Pregnancies  Glucose  BloodPressure  SkinThickness  Insulin   BMI  \\\n",
            "0              6      148             72             35        0  33.6   \n",
            "1              1       85             66             29        0  26.6   \n",
            "2              8      183             64              0        0  23.3   \n",
            "3              1       89             66             23       94  28.1   \n",
            "4              0      137             40             35      168  43.1   \n",
            "..           ...      ...            ...            ...      ...   ...   \n",
            "763           10      101             76             48      180  32.9   \n",
            "764            2      122             70             27        0  36.8   \n",
            "765            5      121             72             23      112  26.2   \n",
            "766            1      126             60              0        0  30.1   \n",
            "767            1       93             70             31        0  30.4   \n",
            "\n",
            "     DiabetesPedigreeFunction  Age  Outcome  \n",
            "0                       0.627   50        1  \n",
            "1                       0.351   31        0  \n",
            "2                       0.672   32        1  \n",
            "3                       0.167   21        0  \n",
            "4                       2.288   33        1  \n",
            "..                        ...  ...      ...  \n",
            "763                     0.171   63        0  \n",
            "764                     0.340   27        0  \n",
            "765                     0.245   30        0  \n",
            "766                     0.349   47        1  \n",
            "767                     0.315   23        0  \n",
            "\n",
            "[768 rows x 9 columns]\n"
          ]
        }
      ]
    },
    {
      "cell_type": "code",
      "source": [
        "#Define the variables\n",
        "\n",
        "Pregnancies = df['Pregnancies']\n",
        "Glucose = df ['Glucose']\n",
        "BloodPressure= df['BloodPressure']\n",
        "SkinThickness = df['SkinThickness']\n",
        "Insulin = df[\"Insulin\"]\n",
        "BMI = df [\"BMI\"]\n",
        "DiabetesPedigreeFunction = df[\"DiabetesPedigreeFunction\"]\n",
        "Outcome = df [\"Outcome\"]"
      ],
      "metadata": {
        "id": "jtKIWT5S1sd-"
      },
      "execution_count": 7,
      "outputs": []
    },
    {
      "cell_type": "code",
      "source": [
        "# Print the variables\n",
        "\n",
        "print(\"Number of times pregnant\")\n",
        "print(Pregnancies)\n",
        "\n",
        "print(\"Plasma glucose concentration a 2 hours in an oral glucose tolerance test\")\n",
        "print(Glucose)\n",
        "\n",
        "print(\"Diastolic blood pressure (mm Hg)\")\n",
        "print(BloodPressure)\n",
        "\n",
        "print(\"Triceps skin fold thickness (mm)\")\n",
        "print(SkinThickness)\n",
        "\n",
        "print(\"2-Hour serum insulin (mu U/ml)\")\n",
        "print(Insulin)\n",
        "\n",
        "print(\"Body mass index (weight in kg/(height in m)^2\")\n",
        "print(BMI)\n",
        "\n",
        "print(\"Diabetes pedigree function\")\n",
        "print(DiabetesPedigreeFunction)\n",
        "\n",
        "print(\"Class variable (0 or 1) 268 of 768 are 1, the others are 0\")\n",
        "print(Outcome)"
      ],
      "metadata": {
        "colab": {
          "base_uri": "https://localhost:8080/"
        },
        "id": "IsR5jTVK1vpE",
        "outputId": "4c35aae2-cd40-4b46-88eb-23b1353c3e33"
      },
      "execution_count": 8,
      "outputs": [
        {
          "output_type": "stream",
          "name": "stdout",
          "text": [
            "Number of times pregnant\n",
            "0       6\n",
            "1       1\n",
            "2       8\n",
            "3       1\n",
            "4       0\n",
            "       ..\n",
            "763    10\n",
            "764     2\n",
            "765     5\n",
            "766     1\n",
            "767     1\n",
            "Name: Pregnancies, Length: 768, dtype: int64\n",
            "Plasma glucose concentration a 2 hours in an oral glucose tolerance test\n",
            "0      148\n",
            "1       85\n",
            "2      183\n",
            "3       89\n",
            "4      137\n",
            "      ... \n",
            "763    101\n",
            "764    122\n",
            "765    121\n",
            "766    126\n",
            "767     93\n",
            "Name: Glucose, Length: 768, dtype: int64\n",
            "Diastolic blood pressure (mm Hg)\n",
            "0      72\n",
            "1      66\n",
            "2      64\n",
            "3      66\n",
            "4      40\n",
            "       ..\n",
            "763    76\n",
            "764    70\n",
            "765    72\n",
            "766    60\n",
            "767    70\n",
            "Name: BloodPressure, Length: 768, dtype: int64\n",
            "Triceps skin fold thickness (mm)\n",
            "0      35\n",
            "1      29\n",
            "2       0\n",
            "3      23\n",
            "4      35\n",
            "       ..\n",
            "763    48\n",
            "764    27\n",
            "765    23\n",
            "766     0\n",
            "767    31\n",
            "Name: SkinThickness, Length: 768, dtype: int64\n",
            "2-Hour serum insulin (mu U/ml)\n",
            "0        0\n",
            "1        0\n",
            "2        0\n",
            "3       94\n",
            "4      168\n",
            "      ... \n",
            "763    180\n",
            "764      0\n",
            "765    112\n",
            "766      0\n",
            "767      0\n",
            "Name: Insulin, Length: 768, dtype: int64\n",
            "Body mass index (weight in kg/(height in m)^2\n",
            "0      33.6\n",
            "1      26.6\n",
            "2      23.3\n",
            "3      28.1\n",
            "4      43.1\n",
            "       ... \n",
            "763    32.9\n",
            "764    36.8\n",
            "765    26.2\n",
            "766    30.1\n",
            "767    30.4\n",
            "Name: BMI, Length: 768, dtype: float64\n",
            "Diabetes pedigree function\n",
            "0      0.627\n",
            "1      0.351\n",
            "2      0.672\n",
            "3      0.167\n",
            "4      2.288\n",
            "       ...  \n",
            "763    0.171\n",
            "764    0.340\n",
            "765    0.245\n",
            "766    0.349\n",
            "767    0.315\n",
            "Name: DiabetesPedigreeFunction, Length: 768, dtype: float64\n",
            "Class variable (0 or 1) 268 of 768 are 1, the others are 0\n",
            "0      1\n",
            "1      0\n",
            "2      1\n",
            "3      0\n",
            "4      1\n",
            "      ..\n",
            "763    0\n",
            "764    0\n",
            "765    0\n",
            "766    1\n",
            "767    0\n",
            "Name: Outcome, Length: 768, dtype: int64\n"
          ]
        }
      ]
    },
    {
      "cell_type": "code",
      "source": [
        "# Print a filtered dataframe with a comparison operator\n",
        "\n",
        "filtered_df = df[df['Age'] > 50]\n",
        "print(\"Women older than 50\")\n",
        "print(filtered_df)"
      ],
      "metadata": {
        "colab": {
          "base_uri": "https://localhost:8080/"
        },
        "id": "vlB1cwb81y6-",
        "outputId": "ec2c46e0-efbb-4572-d97d-06c3c256733f"
      },
      "execution_count": 9,
      "outputs": [
        {
          "output_type": "stream",
          "name": "stdout",
          "text": [
            "Women older than 50\n",
            "     Pregnancies  Glucose  BloodPressure  SkinThickness  Insulin   BMI  \\\n",
            "8              2      197             70             45      543  30.5   \n",
            "9              8      125             96              0        0   0.0   \n",
            "12            10      139             80              0        0  27.1   \n",
            "13             1      189             60             23      846  30.1   \n",
            "14             5      166             72             19      175  25.8   \n",
            "..           ...      ...            ...            ...      ...   ...   \n",
            "719            5       97             76             27        0  35.6   \n",
            "734            2      105             75              0        0  23.3   \n",
            "757            0      123             72              0        0  36.3   \n",
            "759            6      190             92              0        0  35.5   \n",
            "763           10      101             76             48      180  32.9   \n",
            "\n",
            "     DiabetesPedigreeFunction  Age  Outcome  \n",
            "8                       0.158   53        1  \n",
            "9                       0.232   54        1  \n",
            "12                      1.441   57        0  \n",
            "13                      0.398   59        1  \n",
            "14                      0.587   51        1  \n",
            "..                        ...  ...      ...  \n",
            "719                     0.378   52        1  \n",
            "734                     0.560   53        0  \n",
            "757                     0.258   52        1  \n",
            "759                     0.278   66        1  \n",
            "763                     0.171   63        0  \n",
            "\n",
            "[81 rows x 9 columns]\n"
          ]
        }
      ]
    },
    {
      "cell_type": "code",
      "source": [
        "# Print a filtered dataframe with a boolean operator\n",
        "filtered_df = df[(df['Age'] > 50) & (df['Pregnancies'] > 3)]\n",
        "print(\"Women older than 45 who have been pregnant at least 3 times\")\n",
        "print(filtered_df)"
      ],
      "metadata": {
        "colab": {
          "base_uri": "https://localhost:8080/"
        },
        "id": "BDNCyxat11V2",
        "outputId": "2950dd11-30ed-4d85-f026-33c2c58533bd"
      },
      "execution_count": 10,
      "outputs": [
        {
          "output_type": "stream",
          "name": "stdout",
          "text": [
            "Women older than 45 who have been pregnant at least 3 times\n",
            "     Pregnancies  Glucose  BloodPressure  SkinThickness  Insulin   BMI  \\\n",
            "9              8      125             96              0        0   0.0   \n",
            "12            10      139             80              0        0  27.1   \n",
            "14             5      166             72             19      175  25.8   \n",
            "24            11      143             94             33      146  36.6   \n",
            "28            13      145             82             19      110  22.2   \n",
            "..           ...      ...            ...            ...      ...   ...   \n",
            "684            5      136             82              0        0   0.0   \n",
            "717           10       94             72             18        0  23.1   \n",
            "719            5       97             76             27        0  35.6   \n",
            "759            6      190             92              0        0  35.5   \n",
            "763           10      101             76             48      180  32.9   \n",
            "\n",
            "     DiabetesPedigreeFunction  Age  Outcome  \n",
            "9                       0.232   54        1  \n",
            "12                      1.441   57        0  \n",
            "14                      0.587   51        1  \n",
            "24                      0.254   51        1  \n",
            "28                      0.245   57        0  \n",
            "..                        ...  ...      ...  \n",
            "684                     0.640   69        0  \n",
            "717                     0.595   56        0  \n",
            "719                     0.378   52        1  \n",
            "759                     0.278   66        1  \n",
            "763                     0.171   63        0  \n",
            "\n",
            "[62 rows x 9 columns]\n"
          ]
        }
      ]
    },
    {
      "cell_type": "code",
      "source": [
        "# Have a for-loop to create a new column to the DataFrame\n",
        "\n",
        "df['Senior'] = False\n",
        "\n",
        "for index in range(len(df)):\n",
        "    if df.loc[index, 'Age'] >= 50:\n",
        "        df.loc[index, 'Senior'] = True"
      ],
      "metadata": {
        "id": "qG13VKyW14Bc"
      },
      "execution_count": 11,
      "outputs": []
    },
    {
      "cell_type": "code",
      "source": [
        "# Print the updated DataFrame\n",
        "print(\"Dataframe with Senior column\")\n",
        "print(df)"
      ],
      "metadata": {
        "colab": {
          "base_uri": "https://localhost:8080/"
        },
        "id": "mIW2GkzI1-km",
        "outputId": "433f07e7-ea89-4eb8-9d7f-26464aa8a263"
      },
      "execution_count": 12,
      "outputs": [
        {
          "output_type": "stream",
          "name": "stdout",
          "text": [
            "Dataframe with Senior column\n",
            "     Pregnancies  Glucose  BloodPressure  SkinThickness  Insulin   BMI  \\\n",
            "0              6      148             72             35        0  33.6   \n",
            "1              1       85             66             29        0  26.6   \n",
            "2              8      183             64              0        0  23.3   \n",
            "3              1       89             66             23       94  28.1   \n",
            "4              0      137             40             35      168  43.1   \n",
            "..           ...      ...            ...            ...      ...   ...   \n",
            "763           10      101             76             48      180  32.9   \n",
            "764            2      122             70             27        0  36.8   \n",
            "765            5      121             72             23      112  26.2   \n",
            "766            1      126             60              0        0  30.1   \n",
            "767            1       93             70             31        0  30.4   \n",
            "\n",
            "     DiabetesPedigreeFunction  Age  Outcome  Senior  \n",
            "0                       0.627   50        1    True  \n",
            "1                       0.351   31        0   False  \n",
            "2                       0.672   32        1   False  \n",
            "3                       0.167   21        0   False  \n",
            "4                       2.288   33        1   False  \n",
            "..                        ...  ...      ...     ...  \n",
            "763                     0.171   63        0    True  \n",
            "764                     0.340   27        0   False  \n",
            "765                     0.245   30        0   False  \n",
            "766                     0.349   47        1   False  \n",
            "767                     0.315   23        0   False  \n",
            "\n",
            "[768 rows x 10 columns]\n"
          ]
        }
      ]
    },
    {
      "cell_type": "code",
      "source": [
        "# Histogram Plot\n",
        "plt.figure(figsize=(10, 5))\n",
        "plt.hist(df['Age'], bins=5, color='pink', edgecolor='black')\n",
        "plt.title('Age Distribution')\n",
        "plt.xlabel('Age')\n",
        "plt.ylabel('Frequency')\n",
        "plt.grid()\n",
        "plt.show()\n",
        "\n",
        "#Comments\n",
        "\n",
        "print('''The histogram about the age distribution indicates that the majority of the observations are female participants\n",
        "aged between 20 and 30 years. As age increases, the number of data points diminishes significantly.''')"
      ],
      "metadata": {
        "colab": {
          "base_uri": "https://localhost:8080/",
          "height": 521
        },
        "id": "0Y_F5JgV2Arv",
        "outputId": "b2a95ed6-c5e7-4dad-9411-b24e991d638d"
      },
      "execution_count": 16,
      "outputs": [
        {
          "output_type": "display_data",
          "data": {
            "text/plain": [
              "<Figure size 1000x500 with 1 Axes>"
            ],
            "image/png": "[encoded data removed]"
          },
          "metadata": {}
        },
        {
          "output_type": "stream",
          "name": "stdout",
          "text": [
            "The histogram about the age distribution indicates that the majority of the observations are female participants\n",
            "aged between 20 and 30 years. As age increases, the number of data points diminishes significantly.\n"
          ]
        }
      ]
    },
    {
      "cell_type": "code",
      "source": [
        "#Scatter plot\n",
        "\n",
        "plt.figure(figsize=(10, 5))\n",
        "plt.scatter(df['Pregnancies'], df['DiabetesPedigreeFunction'], color='pink', marker='x')\n",
        "plt.title('Scatter Plot of DiabetesPedigree vs Number of Pregnancies')\n",
        "plt.xlabel('Number of Pregnancies')\n",
        "plt.ylabel('Diabetes Pedigree Function')\n",
        "xticks = np.arange(df['Pregnancies'].min(), df['Pregnancies'].max() + 1, 1)\n",
        "plt.xticks(xticks)\n",
        "plt.grid()\n",
        "plt.show()\n",
        "\n",
        "#Comments\n",
        "print('''This scatter plot illustrates the relationship between diabetes pedigree and the number of pregnancies\n",
        " among the surveyed women. As the diabetes pedigree values reach unusually high levels,\n",
        "the number of pregnancies tends to be very low.''')\n"
      ],
      "metadata": {
        "colab": {
          "base_uri": "https://localhost:8080/",
          "height": 538
        },
        "id": "WKJLaqUB2Dq1",
        "outputId": "16274837-9f45-40e2-d50c-52e8c451667a"
      },
      "execution_count": 17,
      "outputs": [
        {
          "output_type": "display_data",
          "data": {
            "text/plain": [
              "<Figure size 1000x500 with 1 Axes>"
            ],
            "image/png": "[encoded data removed]"
          },
          "metadata": {}
        },
        {
          "output_type": "stream",
          "name": "stdout",
          "text": [
            "This scatter plot illustrates the relationship between diabetes pedigree and the number of pregnancies\n",
            " among the surveyed women. As the diabetes pedigree values reach unusually high levels,\n",
            "the number of pregnancies tends to be very low.\n"
          ]
        }
      ]
    }
  ]
}